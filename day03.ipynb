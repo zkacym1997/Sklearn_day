{
 "cells": [
  {
   "cell_type": "markdown",
   "metadata": {},
   "source": [
    "# 逻辑回归：\n",
    "逻辑回归常用来做分类问题，依据模型输出概率值，可以手动设定阈值，大于某个阈值则为1，反之则为0，其概率函数用sigmoid来表示：\n",
    " $ h_\\theta (x) = \\frac{1}{1+e^{-\\theta^T x}} $\n",
    "其含义为y=1的概率、y=1的概率：\n",
    "$ P(y=1|x;\\theta) = h_\\theta (x) ,P(y=0|x;\\theta) = 1- h_\\theta (x)$\n",
    "将上述两项合并即可得到：\n",
    "$ P(y|x;\\theta) = (h_\\theta (x))^y(1-h_\\theta (x))^{1-y} $\n",
    "\n",
    "采用极大似然推导损失函数，假设各个样本之间相互独立，其似然函数可写作：\n",
    "$$ L(\\theta) = \\prod\\limits_{i=0}^n P(y_i )|x_i;\\theta)$$\n",
    "取对数可得：\n",
    "$$ l(\\theta) = \\log L(\\theta) = \\sum \\limits_{i=0}^n (y_i \\log h_\\theta (x_i) + (1-y_i)\\log (1-h_\\theta (x_i)) ) $$\n",
    "即可进行梯度下降求解，值得一提的是，其梯度计算的最终表达式非常漂亮：\n",
    "\n",
    "\n",
    "$$\\theta (t)  = \\theta(t-1) - \\alpha \\sum \\limits_{i=0}^n (h_\\theta (x_i)-y_i)x_i $$"
   ]
  },
  {
   "cell_type": "code",
   "execution_count": null,
   "metadata": {},
   "outputs": [],
   "source": []
  }
 ],
 "metadata": {
  "language_info": {
   "name": "python"
  },
  "orig_nbformat": 4
 },
 "nbformat": 4,
 "nbformat_minor": 2
}
