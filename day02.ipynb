{
 "cells": [
  {
   "cell_type": "code",
   "execution_count": 1,
   "metadata": {},
   "outputs": [],
   "source": [
    "import os\n",
    "import numpy as np\n",
    "import pandas as pd\n",
    "import seaborn as sns\n",
    "import matplotlib.pyplot as plt\n"
   ]
  },
  {
   "cell_type": "code",
   "execution_count": 2,
   "metadata": {},
   "outputs": [],
   "source": [
    "# 读入csv 数据\n",
    "base_supply = pd.read_csv(\"../baselineB.csv\")"
   ]
  },
  {
   "cell_type": "code",
   "execution_count": 4,
   "metadata": {},
   "outputs": [
    {
     "data": {
      "text/html": [
       "<div>\n",
       "<style scoped>\n",
       "    .dataframe tbody tr th:only-of-type {\n",
       "        vertical-align: middle;\n",
       "    }\n",
       "\n",
       "    .dataframe tbody tr th {\n",
       "        vertical-align: top;\n",
       "    }\n",
       "\n",
       "    .dataframe thead th {\n",
       "        text-align: right;\n",
       "    }\n",
       "</style>\n",
       "<table border=\"1\" class=\"dataframe\">\n",
       "  <thead>\n",
       "    <tr style=\"text-align: right;\">\n",
       "      <th></th>\n",
       "      <th>Unnamed: 0</th>\n",
       "      <th>unit</th>\n",
       "      <th>ts</th>\n",
       "      <th>qty</th>\n",
       "    </tr>\n",
       "  </thead>\n",
       "  <tbody>\n",
       "    <tr>\n",
       "      <th>0</th>\n",
       "      <td>6</td>\n",
       "      <td>e527dedfec712d75834a2eacb23e51fc</td>\n",
       "      <td>2021-03-08</td>\n",
       "      <td>59.251771</td>\n",
       "    </tr>\n",
       "    <tr>\n",
       "      <th>1</th>\n",
       "      <td>13</td>\n",
       "      <td>e527dedfec712d75834a2eacb23e51fc</td>\n",
       "      <td>2021-03-15</td>\n",
       "      <td>0.000000</td>\n",
       "    </tr>\n",
       "    <tr>\n",
       "      <th>2</th>\n",
       "      <td>20</td>\n",
       "      <td>e527dedfec712d75834a2eacb23e51fc</td>\n",
       "      <td>2021-03-22</td>\n",
       "      <td>0.255208</td>\n",
       "    </tr>\n",
       "    <tr>\n",
       "      <th>3</th>\n",
       "      <td>27</td>\n",
       "      <td>e527dedfec712d75834a2eacb23e51fc</td>\n",
       "      <td>2021-03-29</td>\n",
       "      <td>0.000000</td>\n",
       "    </tr>\n",
       "    <tr>\n",
       "      <th>4</th>\n",
       "      <td>34</td>\n",
       "      <td>e527dedfec712d75834a2eacb23e51fc</td>\n",
       "      <td>2021-04-05</td>\n",
       "      <td>0.000000</td>\n",
       "    </tr>\n",
       "    <tr>\n",
       "      <th>5</th>\n",
       "      <td>41</td>\n",
       "      <td>e527dedfec712d75834a2eacb23e51fc</td>\n",
       "      <td>2021-04-12</td>\n",
       "      <td>0.000000</td>\n",
       "    </tr>\n",
       "    <tr>\n",
       "      <th>6</th>\n",
       "      <td>48</td>\n",
       "      <td>e527dedfec712d75834a2eacb23e51fc</td>\n",
       "      <td>2021-04-19</td>\n",
       "      <td>0.000000</td>\n",
       "    </tr>\n",
       "    <tr>\n",
       "      <th>7</th>\n",
       "      <td>55</td>\n",
       "      <td>e527dedfec712d75834a2eacb23e51fc</td>\n",
       "      <td>2021-04-26</td>\n",
       "      <td>135.544271</td>\n",
       "    </tr>\n",
       "    <tr>\n",
       "      <th>8</th>\n",
       "      <td>62</td>\n",
       "      <td>e527dedfec712d75834a2eacb23e51fc</td>\n",
       "      <td>2021-05-03</td>\n",
       "      <td>26.767969</td>\n",
       "    </tr>\n",
       "    <tr>\n",
       "      <th>9</th>\n",
       "      <td>69</td>\n",
       "      <td>e527dedfec712d75834a2eacb23e51fc</td>\n",
       "      <td>2021-05-10</td>\n",
       "      <td>0.505208</td>\n",
       "    </tr>\n",
       "  </tbody>\n",
       "</table>\n",
       "</div>"
      ],
      "text/plain": [
       "   Unnamed: 0                              unit          ts         qty\n",
       "0           6  e527dedfec712d75834a2eacb23e51fc  2021-03-08   59.251771\n",
       "1          13  e527dedfec712d75834a2eacb23e51fc  2021-03-15    0.000000\n",
       "2          20  e527dedfec712d75834a2eacb23e51fc  2021-03-22    0.255208\n",
       "3          27  e527dedfec712d75834a2eacb23e51fc  2021-03-29    0.000000\n",
       "4          34  e527dedfec712d75834a2eacb23e51fc  2021-04-05    0.000000\n",
       "5          41  e527dedfec712d75834a2eacb23e51fc  2021-04-12    0.000000\n",
       "6          48  e527dedfec712d75834a2eacb23e51fc  2021-04-19    0.000000\n",
       "7          55  e527dedfec712d75834a2eacb23e51fc  2021-04-26  135.544271\n",
       "8          62  e527dedfec712d75834a2eacb23e51fc  2021-05-03   26.767969\n",
       "9          69  e527dedfec712d75834a2eacb23e51fc  2021-05-10    0.505208"
      ]
     },
     "execution_count": 4,
     "metadata": {},
     "output_type": "execute_result"
    }
   ],
   "source": [
    "base_supply.head(10)"
   ]
  },
  {
   "cell_type": "code",
   "execution_count": 5,
   "metadata": {},
   "outputs": [
    {
     "data": {
      "text/plain": [
       "(4130, 4)"
      ]
     },
     "execution_count": 5,
     "metadata": {},
     "output_type": "execute_result"
    }
   ],
   "source": [
    "base_supply.shape"
   ]
  },
  {
   "cell_type": "code",
   "execution_count": 6,
   "metadata": {},
   "outputs": [
    {
     "data": {
      "text/plain": [
       "unit\n",
       "029e6c46cbb94a7b7b9d5d5295113ae6      42.560000\n",
       "048b5b66a3733fcd56091be6ed8e7d86     816.200000\n",
       "0490a15183efadaa0e33f0ecb60e6013    1406.400000\n",
       "04de458c5d8e1a1b78966b0256e45682    3176.640000\n",
       "050b094f4256b2c0390077539ea3d543     112.000000\n",
       "                                       ...     \n",
       "faff848dbacb62f976f9bca84670a7cd     551.680000\n",
       "fc9e415c0f5c9f28957e07d22fd7b42c      39.840000\n",
       "fd66d107be8dd816c24961da4e791a74    9741.470052\n",
       "ff3a4f7b734b0ef18bcd1600442a11dd    4539.440000\n",
       "ff65120018e54439e4071446a1cf6b14     106.720000\n",
       "Name: qty, Length: 295, dtype: float64"
      ]
     },
     "execution_count": 6,
     "metadata": {},
     "output_type": "execute_result"
    }
   ],
   "source": [
    "base_supply.groupby('unit')['qty'].sum()"
   ]
  },
  {
   "cell_type": "code",
   "execution_count": null,
   "metadata": {},
   "outputs": [],
   "source": []
  }
 ],
 "metadata": {
  "interpreter": {
   "hash": "30a487e5a98c26ddd7a9f78b60226c83499a667fb80d716c2eec658c9a8b764d"
  },
  "kernelspec": {
   "display_name": "Python 3.8.3 64-bit",
   "language": "python",
   "name": "python3"
  },
  "language_info": {
   "codemirror_mode": {
    "name": "ipython",
    "version": 3
   },
   "file_extension": ".py",
   "mimetype": "text/x-python",
   "name": "python",
   "nbconvert_exporter": "python",
   "pygments_lexer": "ipython3",
   "version": "3.8.3"
  },
  "orig_nbformat": 4
 },
 "nbformat": 4,
 "nbformat_minor": 2
}
